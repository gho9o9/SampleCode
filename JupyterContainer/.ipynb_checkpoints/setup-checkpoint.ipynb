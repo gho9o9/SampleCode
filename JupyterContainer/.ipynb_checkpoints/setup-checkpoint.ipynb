{
 "cells": [
  {
   "cell_type": "code",
   "execution_count": 1,
   "metadata": {},
   "outputs": [
    {
     "ename": "ModuleNotFoundError",
     "evalue": "No module named 'pyodbc'",
     "output_type": "error",
     "traceback": [
      "\u001b[1;31m---------------------------------------------------------------------------\u001b[0m",
      "\u001b[1;31mModuleNotFoundError\u001b[0m                       Traceback (most recent call last)",
      "\u001b[1;32m<ipython-input-1-34d33bf9d883>\u001b[0m in \u001b[0;36m<module>\u001b[1;34m()\u001b[0m\n\u001b[1;32m----> 1\u001b[1;33m \u001b[1;32mimport\u001b[0m \u001b[0mpyodbc\u001b[0m\u001b[1;33m\u001b[0m\u001b[1;33m\u001b[0m\u001b[0m\n\u001b[0m\u001b[0;32m      2\u001b[0m \u001b[0mprint\u001b[0m\u001b[1;33m(\u001b[0m\u001b[0mpyodbc\u001b[0m\u001b[1;33m.\u001b[0m\u001b[0mdrivers\u001b[0m\u001b[1;33m(\u001b[0m\u001b[1;33m)\u001b[0m\u001b[1;33m)\u001b[0m\u001b[1;33m\u001b[0m\u001b[1;33m\u001b[0m\u001b[0m\n\u001b[0;32m      3\u001b[0m \u001b[0mget_ipython\u001b[0m\u001b[1;33m(\u001b[0m\u001b[1;33m)\u001b[0m\u001b[1;33m.\u001b[0m\u001b[0mrun_line_magic\u001b[0m\u001b[1;33m(\u001b[0m\u001b[1;34m'load_ext'\u001b[0m\u001b[1;33m,\u001b[0m \u001b[1;34m'sql'\u001b[0m\u001b[1;33m)\u001b[0m\u001b[1;33m\u001b[0m\u001b[1;33m\u001b[0m\u001b[0m\n",
      "\u001b[1;31mModuleNotFoundError\u001b[0m: No module named 'pyodbc'"
     ]
    }
   ],
   "source": [
    "import pyodbc \n",
    "print(pyodbc.drivers())\n",
    "%load_ext sql\n"
   ]
  },
  {
   "cell_type": "code",
   "execution_count": 2,
   "metadata": {},
   "outputs": [
    {
     "name": "stderr",
     "output_type": "stream",
     "text": [
      "cat: /etc/odbcinst.ini: No such file or directory\n"
     ]
    }
   ],
   "source": [
    "%%bash\n",
    "cat /etc/odbcinst.ini\n"
   ]
  },
  {
   "cell_type": "code",
   "execution_count": 3,
   "metadata": {},
   "outputs": [
    {
     "name": "stdout",
     "output_type": "stream",
     "text": [
      "Linux sql19ctp32ub1604 4.15.0-1057-azure #62-Ubuntu SMP Thu Sep 5 18:25:30 UTC 2019 x86_64 x86_64 x86_64 GNU/Linux\n",
      "[ODBC Driver 17 for SQL Server]\n",
      "Description=Microsoft ODBC Driver 17 for SQL Server\n",
      "Driver=/opt/microsoft/msodbcsql17/lib64/libmsodbcsql-17.4.so.1.1\n",
      "UsageCount=1\n",
      "\n"
     ]
    }
   ],
   "source": [
    "%%bash\n",
    "uname -a\n",
    "cat /etc/odbcinst.ini\n"
   ]
  },
  {
   "cell_type": "code",
   "execution_count": 4,
   "metadata": {},
   "outputs": [
    {
     "name": "stdout",
     "output_type": "stream",
     "text": [
      "Linux sql19ctp32ub1604 4.15.0-1057-azure #62-Ubuntu SMP Thu Sep 5 18:25:30 UTC 2019 x86_64 x86_64 x86_64 GNU/Linux\n",
      "DISTRIB_ID=Ubuntu\n",
      "DISTRIB_RELEASE=16.04\n",
      "DISTRIB_CODENAME=xenial\n",
      "DISTRIB_DESCRIPTION=\"Ubuntu 16.04.6 LTS\"\n",
      "[ODBC Driver 17 for SQL Server]\n",
      "Description=Microsoft ODBC Driver 17 for SQL Server\n",
      "Driver=/opt/microsoft/msodbcsql17/lib64/libmsodbcsql-17.4.so.1.1\n",
      "UsageCount=1\n",
      "\n"
     ]
    }
   ],
   "source": [
    "%%bash\n",
    "uname -a\n",
    "cat /etc/lsb-release\n",
    "cat /etc/odbcinst.ini\n"
   ]
  }
 ],
 "metadata": {
  "file_extension": ".py",
  "kernelspec": {
   "display_name": "Python 3",
   "language": "python",
   "name": "python3"
  },
  "language_info": {
   "codemirror_mode": {
    "name": "ipython",
    "version": 3
   },
   "file_extension": ".py",
   "mimetype": "text/x-python",
   "name": "python",
   "nbconvert_exporter": "python",
   "pygments_lexer": "ipython3",
   "version": "3.7.2"
  },
  "mimetype": "text/x-python",
  "name": "python",
  "npconvert_exporter": "python",
  "pygments_lexer": "ipython3",
  "version": 3
 },
 "nbformat": 4,
 "nbformat_minor": 2
}
