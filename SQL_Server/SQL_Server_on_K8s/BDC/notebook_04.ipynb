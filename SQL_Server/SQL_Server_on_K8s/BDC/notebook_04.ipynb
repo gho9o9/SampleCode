{
    "metadata": {
        "kernelspec": {
            "name": "pyspark3kernel",
            "display_name": "PySpark3"
        },
        "language_info": {
            "name": "pyspark3",
            "mimetype": "text/x-python",
            "codemirror_mode": {
                "name": "python",
                "version": 3
            },
            "pygments_lexer": "python3"
        }
    },
    "nbformat_minor": 2,
    "nbformat": 4,
    "cells": [
        {
            "cell_type": "markdown",
            "source": [
                "<img src=\"https://github.com/Microsoft/sqlworkshops/blob/master/graphics/solutions-microsoft-logo-small.png?raw=true\" alt=\"Microsoft\">\r\n",
                "<br>\r\n",
                "\r\n",
                "# SQL Server 2019 big data cluster Tutorial\r\n",
                "## 04 - Using Spark for ETL\r\n",
                "\r\n",
                "In this tutorial you will learn how to work with Spark Jobs in a SQL Server big data cluster. \r\n",
                "\r\n",
                "Many times Spark is used to do transformations on data at large scale. In this Jupyter Notebook, you'll read a large text file into a Spark DataFrame, and then save out the top 10 examples as a table using SparkSQL.\r\n",
                "\r\n",
                "Make sure to set your kernel to PySpark 3.  This should attach you to the correct connection, which is the cluster ip address at port 31433, and the default database."
            ],
            "metadata": {
                "azdata_cell_guid": "76df4eab-04c9-4c02-935e-cefa994031b4"
            }
        },
        {
            "cell_type": "code",
            "source": [
                "# Read the product reviews CSV files into a spark data frame, print schema & top rows\r\n",
                "results = spark.read.option(\"inferSchema\", \"true\").csv('/product_review_data').toDF(\"Item_ID\", \"Review\")"
            ],
            "metadata": {
                "azdata_cell_guid": "26390261-10e8-4d7f-bfff-922dacb35d61"
            },
            "outputs": [
                {
                    "name": "stdout",
                    "text": "Starting Spark application\n",
                    "output_type": "stream"
                },
                {
                    "data": {
                        "text/plain": "<IPython.core.display.HTML object>",
                        "text/html": "<table>\n<tr><th>ID</th><th>YARN Application ID</th><th>Kind</th><th>State</th><th>Spark UI</th><th>Driver log</th><th>Current session?</th></tr><tr><td>2</td><td>application_1569596068007_0003</td><td>pyspark3</td><td>idle</td><td><a target=\"_blank\" href=\"https://40.78.67.225:30443/gateway/default/yarn/proxy/application_1569596068007_0003/\">Link</a></td><td><a target=\"_blank\" href=\"https://40.78.67.225:30443/gateway/default/yarn/container/container_1569596068007_0003_01_000001/root\">Link</a></td><td>✔</td></tr></table>"
                    },
                    "metadata": {},
                    "output_type": "display_data"
                },
                {
                    "name": "stdout",
                    "text": "SparkSession available as 'spark'.\n",
                    "output_type": "stream"
                }
            ],
            "execution_count": 3
        },
        {
            "cell_type": "code",
            "source": [
                "# Save results as parquet file and create hive table\r\n",
                "results.write.format(\"parquet\").mode(\"overwrite\").saveAsTable(\"Top_Product_Reviews\")"
            ],
            "metadata": {
                "azdata_cell_guid": "0f8978c9-5dd8-4bcc-af1a-26f1aa03b0c2"
            },
            "outputs": [],
            "execution_count": 4
        },
        {
            "cell_type": "code",
            "source": [
                "# Execute Spark SQL commands\r\n",
                "sqlDF = spark.sql(\"SELECT * FROM Top_Product_Reviews LIMIT 10\")\r\n",
                "sqlDF.show()"
            ],
            "metadata": {
                "azdata_cell_guid": "f0de90b3-a8ac-423f-8bfc-c45b36a70e84"
            },
            "outputs": [
                {
                    "output_type": "stream",
                    "name": "stdout",
                    "text": "+-------+--------------------+\n|Item_ID|              Review|\n+-------+--------------------+\n|  72621|Works fine. Easy ...|\n|  89334|great product to ...|\n|  89335|Next time will go...|\n|  84259|Great Gift Great ...|\n|  84398|After trip to Par...|\n|  66434|Simply the best t...|\n|  66501|This is the exact...|\n|  66587|Not super magnet;...|\n|  66680|Installed as bath...|\n|  66694|Our home was buil...|\n+-------+--------------------+"
                }
            ],
            "execution_count": 5
        },
        {
            "cell_type": "markdown",
            "source": [
                "## Next Steps: Continue the Hands-on Lab\r\n",
                "\r\n",
                "Continue the Hands-on Lab now that you have the basics of running notebooks on big data clusters to perform a variety of computations and workloads. The next exercise will walk you through performing machine learning on the cluster."
            ],
            "metadata": {
                "azdata_cell_guid": "f96696ed-bbf4-432b-8cec-93d1b7da7484"
            }
        }
    ]
}