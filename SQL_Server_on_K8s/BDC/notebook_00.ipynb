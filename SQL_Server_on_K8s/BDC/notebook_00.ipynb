{
    "metadata": {
        "kernelspec": {
            "name": "python3",
            "display_name": "Python 3"
        },
        "language_info": {
            "name": "python",
            "version": "3.7.3",
            "mimetype": "text/x-python",
            "codemirror_mode": {
                "name": "ipython",
                "version": 3
            },
            "pygments_lexer": "ipython3",
            "nbconvert_exporter": "python",
            "file_extension": ".py"
        }
    },
    "nbformat_minor": 2,
    "nbformat": 4,
    "cells": [
        {
            "cell_type": "markdown",
            "source": [
                "# Jupyter Notebook Fundamentals"
            ],
            "metadata": {}
        },
        {
            "cell_type": "markdown",
            "source": [
                "A **notebook** is a collection **cells**. These cells are run to execute code, render formatted text or display graphical visualizations."
            ],
            "metadata": {}
        },
        {
            "cell_type": "markdown",
            "source": [
                "## Understanding Code Cells and Markdown Cells"
            ],
            "metadata": {}
        },
        {
            "cell_type": "markdown",
            "source": [
                "The following cell (with the gray text area) is a code cell."
            ],
            "metadata": {}
        },
        {
            "source": [
                "# This is a code cell\n",
                "# By default, a new cell added in a notebook is a code cell\n",
                "1 + 1"
            ],
            "cell_type": "code",
            "outputs": [
                {
                    "output_type": "execute_result",
                    "data": {
                        "text/plain": "2"
                    },
                    "metadata": {},
                    "execution_count": 1
                }
            ],
            "metadata": {},
            "execution_count": 1
        },
        {
            "cell_type": "markdown",
            "source": [
                "This notebook is written in Python. Because of this, you need to select the appropriate **Kernel** that you use to run the cells of this notebook.\n",
                "\n",
                "To select your Kernel:\n",
                "\n",
                "1. In the notebook toolbar, select the **Kernel** dropdown.\n",
                "2. From the drop-down, select **Python 3**.\n",
                "\n",
                "    ![Kernel dropdown.](https://github.com/solliancenet/MCW-Modernizing-data-analytics-with-SQL-Server-2019/raw/master/Hands-on%20lab/media/ads-notebook-select-kernel.png)\n",
                "\n",
                "The code cell above has not run yet, so the expressions of `1 + 1` has not been evaluated. To run the code cell, select the cell by placing your cursor within the cell text area and do any of the following:\n",
                "\n",
                "- Press `F5` to run the cell\n",
                "- Use the cell Run icon to the left of the cell\n",
                "\n",
                "    ![Run Cell](https://github.com/solliancenet/MCW-Modernizing-data-analytics-with-SQL-Server-2019/raw/master/Hands-on%20lab/media/ads-notebook-run.png)"
            ],
            "metadata": {}
        },
        {
            "cell_type": "markdown",
            "source": [
                "The following cell is another example of a code cell. Run it to see its output."
            ],
            "metadata": {}
        },
        {
            "source": [
                "# This is also a code cell\n",
                "print(\"Welcome to your SQL Server 2019 Big Data cluster!\")"
            ],
            "cell_type": "code",
            "outputs": [
                {
                    "output_type": "stream",
                    "name": "stdout",
                    "text": "Welcome to your SQL Server 2019 Big Data cluster!\n"
                }
            ],
            "metadata": {},
            "execution_count": 2
        },
        {
            "cell_type": "markdown",
            "source": [
                "The following cell, which displays its output as formatted text is a text cell that supports [markdown](https://en.wikipedia.org/wiki/Markdown) format."
            ],
            "metadata": {}
        },
        {
            "cell_type": "markdown",
            "source": [
                "This is a *text* cell.\n",
                "\n",
                "To create a text cell, select the cell command menu on the upper-right (...). In the context menu, select **Insert Text Before** to add a text cell above this one, or **Insert Text After** to add one after this cell.\n",
                "\n",
                "![Cell command menu.](https://github.com/solliancenet/MCW-Modernizing-data-analytics-with-SQL-Server-2019/raw/master/Hands-on%20lab/media/ads-notebook-command.png)"
            ],
            "metadata": {}
        },
        {
            "cell_type": "markdown",
            "source": [
                "Double click on the above cell and notice how the cell changes to an editable code cell.\n",
                "\n",
                "A preview of the markdown is displayed below the cell. To finish editing, simply click somewhere outside of the cell or press `Esc`."
            ],
            "metadata": {}
        },
        {
            "cell_type": "markdown",
            "source": [
                "### Understanding cell output"
            ],
            "metadata": {}
        },
        {
            "cell_type": "markdown",
            "source": [
                "By default, a notebook cell will output the value of evaluating the last line the cell."
            ],
            "metadata": {}
        },
        {
            "cell_type": "markdown",
            "source": [
                "Run the following cell. Observe that the entire cell is echoed in the output because the cell contains only one line."
            ],
            "metadata": {}
        },
        {
            "source": [
                "\"Hello SQL world!\""
            ],
            "cell_type": "code",
            "outputs": [
                {
                    "output_type": "execute_result",
                    "data": {
                        "text/plain": "'Hello SQL world!'"
                    },
                    "metadata": {},
                    "execution_count": 3
                }
            ],
            "metadata": {},
            "execution_count": 3
        },
        {
            "cell_type": "markdown",
            "source": [
                "Next, examine the following cell. What do you expect the output to be? Run the cell and confirm your understanding."
            ],
            "metadata": {}
        },
        {
            "cell_type": "code",
            "source": [
                "\"Hello SQL world!\"\n",
                "\"And, hello Jupyter notebook!\""
            ],
            "metadata": {},
            "outputs": [],
            "execution_count": 11
        },
        {
            "cell_type": "markdown",
            "source": [
                "If you want to ensure your output displays something, use the `print` method."
            ],
            "metadata": {}
        },
        {
            "cell_type": "code",
            "source": [
                "print(\"Hello SQL world!\")\n",
                "print(\"And, hello Jupyter notebook!\")"
            ],
            "metadata": {},
            "outputs": [],
            "execution_count": 12
        },
        {
            "cell_type": "markdown",
            "source": [
                "Not all code lines return a value to be output. Run the following cell to see one such an example."
            ],
            "metadata": {}
        },
        {
            "cell_type": "code",
            "source": [
                "text_variable = \"Hello, hello!\""
            ],
            "metadata": {},
            "outputs": [],
            "execution_count": 13
        },
        {
            "cell_type": "markdown",
            "source": [
                "## Running multiple notebook cells"
            ],
            "metadata": {}
        },
        {
            "cell_type": "markdown",
            "source": [
                "It is not uncommon to need to run (or re-run) a all notebook cells in top to bottom order.\n",
                "\n",
                "To do this, select **Run Cells** in the toolbar above the notebook. This runs all cells starting from the first."
            ],
            "metadata": {}
        },
        {
            "cell_type": "markdown",
            "source": [
                "## Adding code cells"
            ],
            "metadata": {}
        },
        {
            "cell_type": "markdown",
            "source": [
                "You can add new code cells in the same way you add text cells.\n",
                "\n",
                "To do this, select the cell command menu on the upper-right (...). In the context menu, select **Insert Code Before** to add a code cell above this one, or **Insert Code After** to add one after this cell.\n",
                "\n",
                "![Cell command menu.](https://github.com/solliancenet/MCW-Modernizing-data-analytics-with-SQL-Server-2019/raw/master/Hands-on%20lab/media/ads-cell-command-code.png)\n",
                "\n",
                "You can also use this command menu to delete a cell."
            ],
            "metadata": {}
        },
        {
            "cell_type": "markdown",
            "source": [
                "## Understanding notebook state"
            ],
            "metadata": {}
        },
        {
            "cell_type": "markdown",
            "source": [
                "When you execute notebook cells, their execution is backed by a process running on a cluster or locally, depending on the Kernel you select. The state of your notebook, such as the values of variables, is maintained in the process. All variables default to a global scope (unless you author your code so it has nested scopes) and this global state can be a little confusing at first when you re-run cells."
            ],
            "metadata": {}
        },
        {
            "cell_type": "markdown",
            "source": [
                "Run the following two cells in order and take note of the value ouput for the variable `y`:"
            ],
            "metadata": {}
        },
        {
            "source": [
                "x = 10"
            ],
            "cell_type": "code",
            "outputs": [],
            "metadata": {},
            "execution_count": 4
        },
        {
            "source": [
                "y = x + 1\n",
                "y"
            ],
            "cell_type": "code",
            "outputs": [
                {
                    "output_type": "execute_result",
                    "data": {
                        "text/plain": "11"
                    },
                    "metadata": {},
                    "execution_count": 5
                }
            ],
            "metadata": {},
            "execution_count": 5
        },
        {
            "cell_type": "markdown",
            "source": [
                "Next, run the following cell."
            ],
            "metadata": {}
        },
        {
            "cell_type": "code",
            "source": [
                "x = 100"
            ],
            "metadata": {},
            "outputs": [],
            "execution_count": 26
        },
        {
            "cell_type": "markdown",
            "source": [
                "Now select the cell that has the lines `y = x + 1` and `y`. And re-run that cell. Did the value of `y` meet your expectation? \n",
                "\n",
                "The value of `y` should now be `101`. This is because it is not the actual order of the cells that determines the value, but the order in which they are run and how that affects the underlying state itself. To understand this, realize that when the code `x = 100` was run, this changed the value of `x`, and then when you re-ran the cell containing `y = x + 1` this evaluation used the current value of x which is 100. This resulted in `y` having a value of `101` and not `11`."
            ],
            "metadata": {}
        },
        {
            "cell_type": "markdown",
            "source": [
                "### Clearing results\n",
                "\n",
                "You can use the **Clear Results** toolbar item above the notebook to clear all displayed output from underneath code cells.\n",
                "\n",
                "You typically do this when you want to cleanly re-run a notebook you have been working on and eliminate any accidental changes to the state that may have occured while you were authoring the notebook."
            ],
            "metadata": {}
        }
    ]
}