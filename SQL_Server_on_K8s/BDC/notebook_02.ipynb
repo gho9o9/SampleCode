{
    "metadata": {
        "kernelspec": {
            "name": "SQL",
            "display_name": "SQL",
            "language": "sql"
        },
        "language_info": {
            "name": "sql",
            "version": ""
        }
    },
    "nbformat_minor": 2,
    "nbformat": 4,
    "cells": [
        {
            "cell_type": "markdown",
            "source": [
                "<img src=\"https://github.com/Microsoft/sqlworkshops/blob/master/graphics/solutions-microsoft-logo-small.png?raw=true\" alt=\"Microsoft\">\r\n",
                "<br>\r\n",
                "\r\n",
                "# SQL Server 2019 big data cluster Tutorial\r\n",
                "## 02 - Data Virtualization\r\n",
                "\r\n",
                "In this tutorial you will learn how to create and query Virtualized Data in a SQL Server big data cluster.  \r\n",
                "- You'll start with creating a text file format, since that's the type of data you are reading in. \r\n",
                "- Next, you'll create a data source for the SQL Storage Pool, since that allows you to access the HDFS system in BDC. \r\n",
                "- Finally, you'll create an External Table, which uses the previous steps to access the data.\r\n",
                ""
            ],
            "metadata": {
                "azdata_cell_guid": "8e709e26-4d17-44e7-b33c-ca1885f9b58b"
            }
        },
        {
            "cell_type": "code",
            "source": [
                "/* Create External File Format */\r\n",
                "\r\n",
                "USE sales;\r\n",
                "GO\r\n",
                "\r\n",
                "IF NOT EXISTS(SELECT * FROM sys.external_file_formats WHERE name = 'csv_file')\r\n",
                "BEGIN\r\n",
                "    CREATE EXTERNAL FILE FORMAT csv_file\r\n",
                "    WITH (\r\n",
                "        FORMAT_TYPE = DELIMITEDTEXT,\r\n",
                "        FORMAT_OPTIONS(\r\n",
                "            FIELD_TERMINATOR = ',',\r\n",
                "            STRING_DELIMITER = '0x22',\r\n",
                "            FIRST_ROW = 2,\r\n",
                "            USE_TYPE_DEFAULT = TRUE)\r\n",
                "    );\r\n",
                "END"
            ],
            "metadata": {
                "azdata_cell_guid": "be52fc6a-64d9-4ba7-a5a5-0482aad593b0"
            },
            "outputs": [],
            "execution_count": 1
        },
        {
            "cell_type": "code",
            "source": [
                "/* Create External Data Source to the Storage Pool */\r\n",
                "\r\n",
                " IF NOT EXISTS(SELECT * FROM sys.external_data_sources WHERE name = 'SqlStoragePool')\r\n",
                "      CREATE EXTERNAL DATA SOURCE SqlStoragePool\r\n",
                "      WITH (LOCATION = 'sqlhdfs://controller-svc:8080/default');"
            ],
            "metadata": {
                "azdata_cell_guid": "16cf7ec9-4607-4366-b461-78b305225e35"
            },
            "outputs": [],
            "execution_count": 3
        },
        {
            "cell_type": "code",
            "source": [
                "/* Create an External Table that can read from the Storage Pool File Location */\r\n",
                "IF NOT EXISTS(SELECT * FROM sys.external_tables WHERE name = 'partner_customers_hdfs')\r\n",
                "BEGIN\r\n",
                "    CREATE EXTERNAL TABLE [partner_customers_hdfs]\r\n",
                "    (\"CustomerSource\" VARCHAR(250) \r\n",
                "    , \"CustomerName\" VARCHAR(250) \r\n",
                "    , \"EmailAddress\" VARCHAR(250))\r\n",
                "    WITH\r\n",
                "    (\r\n",
                "        DATA_SOURCE = SqlStoragePool,\r\n",
                "        LOCATION = '/partner_customers',\r\n",
                "        FILE_FORMAT = csv_file\r\n",
                "    );\r\n",
                "END"
            ],
            "metadata": {
                "azdata_cell_guid": "863c1722-bab8-4904-a2d2-b52f6b9b7b17"
            },
            "outputs": [
                {
                    "output_type": "display_data",
                    "data": {
                        "text/html": "Commands completed successfully."
                    },
                    "metadata": {}
                },
                {
                    "output_type": "display_data",
                    "data": {
                        "text/html": "Total execution time: 00:00:00.033"
                    },
                    "metadata": {}
                }
            ],
            "execution_count": 4
        },
        {
            "cell_type": "code",
            "source": [
                "/* Read Data from HDFS using only T-SQL */\r\n",
                "\r\n",
                "SELECT TOP 100 CustomerSource\r\n",
                ", CustomerName\r\n",
                ", EMailAddress\r\n",
                "    FROM [partner_customers_hdfs] hdfs\r\n",
                "WHERE EmailAddress LIKE '%wingtip%'\r\n",
                "ORDER BY CustomerSource, CustomerName;\r\n",
                "GO\r\n",
                ""
            ],
            "metadata": {
                "azdata_cell_guid": "c73f5f99-7dc8-4a63-897f-48c948d293fe"
            },
            "outputs": [
                {
                    "output_type": "display_data",
                    "data": {
                        "text/html": "(100 rows affected)"
                    },
                    "metadata": {}
                },
                {
                    "output_type": "display_data",
                    "data": {
                        "text/html": "Total execution time: 00:00:05.966"
                    },
                    "metadata": {}
                },
                {
                    "output_type": "execute_result",
                    "metadata": {},
                    "execution_count": 17,
                    "data": {
                        "application/vnd.dataresource+json": {
                            "schema": {
                                "fields": [
                                    {
                                        "name": "CustomerSource"
                                    },
                                    {
                                        "name": "CustomerName"
                                    },
                                    {
                                        "name": "EMailAddress"
                                    }
                                ]
                            },
                            "data": [
                                {
                                    "0": "AdventureWorks",
                                    "1": "Ã…Å¡ani Nair",
                                    "2": "Ã¥Å¡ani@wingtiptoys.com\r"
                                },
                                {
                                    "0": "AdventureWorks",
                                    "1": "Ã…Å¡ani Sen",
                                    "2": "Ã¥Å¡ani@wingtiptoys.com\r"
                                },
                                {
                                    "0": "AdventureWorks",
                                    "1": "Aakriti Bhamidipati",
                                    "2": "aakriti@wingtiptoys.com\r"
                                },
                                {
                                    "0": "AdventureWorks",
                                    "1": "Aamdaal Kamasamudram",
                                    "2": "aamdaal@wingtiptoys.com\r"
                                },
                                {
                                    "0": "AdventureWorks",
                                    "1": "Abel Pirvu",
                                    "2": "abel@wingtiptoys.com\r"
                                },
                                {
                                    "0": "AdventureWorks",
                                    "1": "Abhaya Rambhatla",
                                    "2": "abhaya@wingtiptoys.com\r"
                                },
                                {
                                    "0": "AdventureWorks",
                                    "1": "Abhra Thakur",
                                    "2": "abhra@wingtiptoys.com\r"
                                },
                                {
                                    "0": "AdventureWorks",
                                    "1": "Adam Balaz",
                                    "2": "adam@wingtiptoys.com\r"
                                },
                                {
                                    "0": "AdventureWorks",
                                    "1": "Adirake Narkbunnum",
                                    "2": "adirake@wingtiptoys.com\r"
                                },
                                {
                                    "0": "AdventureWorks",
                                    "1": "Adirake Saenamuang",
                                    "2": "adirake@wingtiptoys.com\r"
                                },
                                {
                                    "0": "AdventureWorks",
                                    "1": "Adrian Bengtsson",
                                    "2": "adrian@wingtiptoys.com\r"
                                },
                                {
                                    "0": "AdventureWorks",
                                    "1": "Adriana Horackova",
                                    "2": "adriana@wingtiptoys.com\r"
                                },
                                {
                                    "0": "AdventureWorks",
                                    "1": "Aet Kasesalu",
                                    "2": "aet@wingtiptoys.com\r"
                                },
                                {
                                    "0": "AdventureWorks",
                                    "1": "Agrita Kalnina",
                                    "2": "agrita@wingtiptoys.com\r"
                                },
                                {
                                    "0": "AdventureWorks",
                                    "1": "Aija Lukstina",
                                    "2": "aija@wingtiptoys.com\r"
                                },
                                {
                                    "0": "AdventureWorks",
                                    "1": "Aile Aasmae",
                                    "2": "aile@wingtiptoys.com\r"
                                },
                                {
                                    "0": "AdventureWorks",
                                    "1": "Akhtar Shahrestaani",
                                    "2": "akhtar@wingtiptoys.com\r"
                                },
                                {
                                    "0": "AdventureWorks",
                                    "1": "Akshayakeerti Jandhyala",
                                    "2": "akshayakeerti@wingtiptoys.com\r"
                                },
                                {
                                    "0": "AdventureWorks",
                                    "1": "Alain Pelland",
                                    "2": "alain@wingtiptoys.com\r"
                                },
                                {
                                    "0": "AdventureWorks",
                                    "1": "Alejandro Baeza",
                                    "2": "alejandro@wingtiptoys.com\r"
                                },
                                {
                                    "0": "AdventureWorks",
                                    "1": "Alejandro Escobar",
                                    "2": "alejandro@wingtiptoys.com\r"
                                },
                                {
                                    "0": "AdventureWorks",
                                    "1": "Aleksandrs Cirulis",
                                    "2": "aleksandrs@wingtiptoys.com\r"
                                },
                                {
                                    "0": "AdventureWorks",
                                    "1": "Alessandra Gallo",
                                    "2": "alessandra@wingtiptoys.com\r"
                                },
                                {
                                    "0": "AdventureWorks",
                                    "1": "Alexandre  L'Angelier",
                                    "2": "alexandre @wingtiptoys.com\r"
                                },
                                {
                                    "0": "AdventureWorks",
                                    "1": "Am Lo",
                                    "2": "am@wingtiptoys.com\r"
                                },
                                {
                                    "0": "AdventureWorks",
                                    "1": "Amanda Kaulina",
                                    "2": "amanda@wingtiptoys.com\r"
                                },
                                {
                                    "0": "AdventureWorks",
                                    "1": "Ambareesh Madhunapantula",
                                    "2": "ambareesh@wingtiptoys.com\r"
                                },
                                {
                                    "0": "AdventureWorks",
                                    "1": "Amit Ghatak",
                                    "2": "amit@wingtiptoys.com\r"
                                },
                                {
                                    "0": "AdventureWorks",
                                    "1": "Amporn Jetjirawat",
                                    "2": "amporn@wingtiptoys.com\r"
                                },
                                {
                                    "0": "AdventureWorks",
                                    "1": "An Dung Ngo",
                                    "2": "an dung@wingtiptoys.com\r"
                                },
                                {
                                    "0": "AdventureWorks",
                                    "1": "Ana Julijana Isa",
                                    "2": "ana julijana@wingtiptoys.com\r"
                                },
                                {
                                    "0": "AdventureWorks",
                                    "1": "Anda Liepa",
                                    "2": "anda@wingtiptoys.com\r"
                                },
                                {
                                    "0": "AdventureWorks",
                                    "1": "Andrei Bratianu",
                                    "2": "andrei@wingtiptoys.com\r"
                                },
                                {
                                    "0": "AdventureWorks",
                                    "1": "Andris Vitols",
                                    "2": "andris@wingtiptoys.com\r"
                                },
                                {
                                    "0": "AdventureWorks",
                                    "1": "Anete Kundzina",
                                    "2": "anete@wingtiptoys.com\r"
                                },
                                {
                                    "0": "AdventureWorks",
                                    "1": "Angelina Gormanston",
                                    "2": "angelina@wingtiptoys.com\r"
                                },
                                {
                                    "0": "AdventureWorks",
                                    "1": "Angelina Karlsson",
                                    "2": "angelina@wingtiptoys.com\r"
                                },
                                {
                                    "0": "AdventureWorks",
                                    "1": "Anish Naidu",
                                    "2": "anish@wingtiptoys.com\r"
                                },
                                {
                                    "0": "AdventureWorks",
                                    "1": "Ankita Mittal",
                                    "2": "ankita@wingtiptoys.com\r"
                                },
                                {
                                    "0": "AdventureWorks",
                                    "1": "Ankolika Sen",
                                    "2": "ankolika@wingtiptoys.com\r"
                                },
                                {
                                    "0": "AdventureWorks",
                                    "1": "Anshula Mitra",
                                    "2": "anshula@wingtiptoys.com\r"
                                },
                                {
                                    "0": "AdventureWorks",
                                    "1": "Antonin Holy",
                                    "2": "antonin@wingtiptoys.com\r"
                                },
                                {
                                    "0": "AdventureWorks",
                                    "1": "Antonio Trentini",
                                    "2": "antonio@wingtiptoys.com\r"
                                },
                                {
                                    "0": "AdventureWorks",
                                    "1": "Anuj Sonkar",
                                    "2": "anuj@wingtiptoys.com\r"
                                },
                                {
                                    "0": "AdventureWorks",
                                    "1": "Anukul Dey",
                                    "2": "anukul@wingtiptoys.com\r"
                                },
                                {
                                    "0": "AdventureWorks",
                                    "1": "Anupam Majumdar",
                                    "2": "anupam@wingtiptoys.com\r"
                                },
                                {
                                    "0": "AdventureWorks",
                                    "1": "Arnab Malakar",
                                    "2": "arnab@wingtiptoys.com\r"
                                },
                                {
                                    "0": "AdventureWorks",
                                    "1": "Arto Heikkinen",
                                    "2": "arto@wingtiptoys.com\r"
                                },
                                {
                                    "0": "AdventureWorks",
                                    "1": "Arundhati Bhowmick",
                                    "2": "arundhati@wingtiptoys.com\r"
                                },
                                {
                                    "0": "AdventureWorks",
                                    "1": "Arunima Ganguly",
                                    "2": "arunima@wingtiptoys.com\r"
                                },
                                {
                                    "0": "AdventureWorks",
                                    "1": "Asha Mudigonda",
                                    "2": "asha@wingtiptoys.com\r"
                                },
                                {
                                    "0": "AdventureWorks",
                                    "1": "Astrid Poisson",
                                    "2": "astrid@wingtiptoys.com\r"
                                },
                                {
                                    "0": "AdventureWorks",
                                    "1": "Ava Edden",
                                    "2": "ava@wingtiptoys.com\r"
                                },
                                {
                                    "0": "AdventureWorks",
                                    "1": "Avanti Nishad",
                                    "2": "avanti@wingtiptoys.com\r"
                                },
                                {
                                    "0": "AdventureWorks",
                                    "1": "Baalaaditya Rallapalli",
                                    "2": "baalaaditya@wingtiptoys.com\r"
                                },
                                {
                                    "0": "AdventureWorks",
                                    "1": "Baalaamani Veturi",
                                    "2": "baalaamani@wingtiptoys.com\r"
                                },
                                {
                                    "0": "AdventureWorks",
                                    "1": "Baalamurali Kommineni",
                                    "2": "baalamurali@wingtiptoys.com\r"
                                },
                                {
                                    "0": "AdventureWorks",
                                    "1": "Baanuraekha Voleti",
                                    "2": "baanuraekha@wingtiptoys.com\r"
                                },
                                {
                                    "0": "AdventureWorks",
                                    "1": "Badanika Vankayala",
                                    "2": "badanika@wingtiptoys.com\r"
                                },
                                {
                                    "0": "AdventureWorks",
                                    "1": "Baebeesarasvati Kamasamudram",
                                    "2": "baebeesarasvati@wingtiptoys.com\r"
                                },
                                {
                                    "0": "AdventureWorks",
                                    "1": "Bala Ogra",
                                    "2": "bala@wingtiptoys.com\r"
                                },
                                {
                                    "0": "AdventureWorks",
                                    "1": "Basak Tekin",
                                    "2": "basak@wingtiptoys.com\r"
                                },
                                {
                                    "0": "AdventureWorks",
                                    "1": "Bay Ly",
                                    "2": "bay@wingtiptoys.com\r"
                                },
                                {
                                    "0": "AdventureWorks",
                                    "1": "Bhaagyalakshmi Muppavarapu",
                                    "2": "bhaagyalakshmi@wingtiptoys.com\r"
                                },
                                {
                                    "0": "AdventureWorks",
                                    "1": "Bhaagyalakshmi Rajanala",
                                    "2": "bhaagyalakshmi@wingtiptoys.com\r"
                                },
                                {
                                    "0": "AdventureWorks",
                                    "1": "Bhaamini Kanaparthi",
                                    "2": "bhaamini@wingtiptoys.com\r"
                                },
                                {
                                    "0": "AdventureWorks",
                                    "1": "Bhaanusree Ankitham",
                                    "2": "bhaanusree@wingtiptoys.com\r"
                                },
                                {
                                    "0": "AdventureWorks",
                                    "1": "Bhairaam Kidambi",
                                    "2": "bhairaam@wingtiptoys.com\r"
                                },
                                {
                                    "0": "AdventureWorks",
                                    "1": "Bibi Javan",
                                    "2": "bibi@wingtiptoys.com\r"
                                },
                                {
                                    "0": "AdventureWorks",
                                    "1": "Bich Banh",
                                    "2": "bich@wingtiptoys.com\r"
                                },
                                {
                                    "0": "AdventureWorks",
                                    "1": "Bipin Modi",
                                    "2": "bipin@wingtiptoys.com\r"
                                },
                                {
                                    "0": "AdventureWorks",
                                    "1": "Birgit Saar",
                                    "2": "birgit@wingtiptoys.com\r"
                                },
                                {
                                    "0": "AdventureWorks",
                                    "1": "Birol Arslan",
                                    "2": "birol@wingtiptoys.com\r"
                                },
                                {
                                    "0": "AdventureWorks",
                                    "1": "Bishnu Bandopadhyay",
                                    "2": "bishnu@wingtiptoys.com\r"
                                },
                                {
                                    "0": "AdventureWorks",
                                    "1": "Blagoje Pavlovic",
                                    "2": "blagoje@wingtiptoys.com\r"
                                },
                                {
                                    "0": "AdventureWorks",
                                    "1": "Bozena Divisova",
                                    "2": "bozena@wingtiptoys.com\r"
                                },
                                {
                                    "0": "AdventureWorks",
                                    "1": "Brayden Macnamara",
                                    "2": "brayden@wingtiptoys.com\r"
                                },
                                {
                                    "0": "AdventureWorks",
                                    "1": "Bruna Cavalcante",
                                    "2": "bruna@wingtiptoys.com\r"
                                },
                                {
                                    "0": "AdventureWorks",
                                    "1": "Bryan Helms",
                                    "2": "bryan@wingtiptoys.com\r"
                                },
                                {
                                    "0": "AdventureWorks",
                                    "1": "Burak ozden",
                                    "2": "burak@wingtiptoys.com\r"
                                },
                                {
                                    "0": "AdventureWorks",
                                    "1": "Cai Cao",
                                    "2": "cai@wingtiptoys.com\r"
                                },
                                {
                                    "0": "AdventureWorks",
                                    "1": "Calin Bojin",
                                    "2": "calin@wingtiptoys.com\r"
                                },
                                {
                                    "0": "AdventureWorks",
                                    "1": "Carla Osorio",
                                    "2": "carla@wingtiptoys.com\r"
                                },
                                {
                                    "0": "AdventureWorks",
                                    "1": "Catalina Nechita",
                                    "2": "catalina@wingtiptoys.com\r"
                                },
                                {
                                    "0": "AdventureWorks",
                                    "1": "Caterina Fallaci",
                                    "2": "caterina@wingtiptoys.com\r"
                                },
                                {
                                    "0": "AdventureWorks",
                                    "1": "Chandni Jandhyala",
                                    "2": "chandni@wingtiptoys.com\r"
                                },
                                {
                                    "0": "AdventureWorks",
                                    "1": "Chandran Bhattacharya",
                                    "2": "chandran@wingtiptoys.com\r"
                                },
                                {
                                    "0": "AdventureWorks",
                                    "1": "Chandranath Bose",
                                    "2": "chandranath@wingtiptoys.com\r"
                                },
                                {
                                    "0": "AdventureWorks",
                                    "1": "Charline Flamand",
                                    "2": "charline@wingtiptoys.com\r"
                                },
                                {
                                    "0": "AdventureWorks",
                                    "1": "Chati Ornlamai",
                                    "2": "chati@wingtiptoys.com\r"
                                },
                                {
                                    "0": "AdventureWorks",
                                    "1": "Chau Chu",
                                    "2": "chau@wingtiptoys.com\r"
                                },
                                {
                                    "0": "AdventureWorks",
                                    "1": "Chetana Kamath",
                                    "2": "chetana@wingtiptoys.com\r"
                                },
                                {
                                    "0": "AdventureWorks",
                                    "1": "Chuan Wongsawat",
                                    "2": "chuan@wingtiptoys.com\r"
                                },
                                {
                                    "0": "AdventureWorks",
                                    "1": "Claude Bonsaint",
                                    "2": "claude@wingtiptoys.com\r"
                                },
                                {
                                    "0": "AdventureWorks",
                                    "1": "Constanta Dita",
                                    "2": "constanta@wingtiptoys.com\r"
                                },
                                {
                                    "0": "AdventureWorks",
                                    "1": "Constanza Laureano",
                                    "2": "constanza@wingtiptoys.com\r"
                                },
                                {
                                    "0": "AdventureWorks",
                                    "1": "Coralie Brasseur",
                                    "2": "coralie@wingtiptoys.com\r"
                                },
                                {
                                    "0": "AdventureWorks",
                                    "1": "Corneliu Vladu",
                                    "2": "corneliu@wingtiptoys.com\r"
                                },
                                {
                                    "0": "AdventureWorks",
                                    "1": "Crina Nechita",
                                    "2": "crina@wingtiptoys.com\r"
                                },
                                {
                                    "0": "AdventureWorks",
                                    "1": "Cuc Tu",
                                    "2": "cuc@wingtiptoys.com\r"
                                }
                            ]
                        },
                        "text/html": "<table><tr><th>CustomerSource</th><th>CustomerName</th><th>EMailAddress</th></tr><tr><td>AdventureWorks</td><td>Ã…Å¡ani Nair</td><td>Ã¥Å¡ani@wingtiptoys.com\r</td></tr><tr><td>AdventureWorks</td><td>Ã…Å¡ani Sen</td><td>Ã¥Å¡ani@wingtiptoys.com\r</td></tr><tr><td>AdventureWorks</td><td>Aakriti Bhamidipati</td><td>aakriti@wingtiptoys.com\r</td></tr><tr><td>AdventureWorks</td><td>Aamdaal Kamasamudram</td><td>aamdaal@wingtiptoys.com\r</td></tr><tr><td>AdventureWorks</td><td>Abel Pirvu</td><td>abel@wingtiptoys.com\r</td></tr><tr><td>AdventureWorks</td><td>Abhaya Rambhatla</td><td>abhaya@wingtiptoys.com\r</td></tr><tr><td>AdventureWorks</td><td>Abhra Thakur</td><td>abhra@wingtiptoys.com\r</td></tr><tr><td>AdventureWorks</td><td>Adam Balaz</td><td>adam@wingtiptoys.com\r</td></tr><tr><td>AdventureWorks</td><td>Adirake Narkbunnum</td><td>adirake@wingtiptoys.com\r</td></tr><tr><td>AdventureWorks</td><td>Adirake Saenamuang</td><td>adirake@wingtiptoys.com\r</td></tr><tr><td>AdventureWorks</td><td>Adrian Bengtsson</td><td>adrian@wingtiptoys.com\r</td></tr><tr><td>AdventureWorks</td><td>Adriana Horackova</td><td>adriana@wingtiptoys.com\r</td></tr><tr><td>AdventureWorks</td><td>Aet Kasesalu</td><td>aet@wingtiptoys.com\r</td></tr><tr><td>AdventureWorks</td><td>Agrita Kalnina</td><td>agrita@wingtiptoys.com\r</td></tr><tr><td>AdventureWorks</td><td>Aija Lukstina</td><td>aija@wingtiptoys.com\r</td></tr><tr><td>AdventureWorks</td><td>Aile Aasmae</td><td>aile@wingtiptoys.com\r</td></tr><tr><td>AdventureWorks</td><td>Akhtar Shahrestaani</td><td>akhtar@wingtiptoys.com\r</td></tr><tr><td>AdventureWorks</td><td>Akshayakeerti Jandhyala</td><td>akshayakeerti@wingtiptoys.com\r</td></tr><tr><td>AdventureWorks</td><td>Alain Pelland</td><td>alain@wingtiptoys.com\r</td></tr><tr><td>AdventureWorks</td><td>Alejandro Baeza</td><td>alejandro@wingtiptoys.com\r</td></tr><tr><td>AdventureWorks</td><td>Alejandro Escobar</td><td>alejandro@wingtiptoys.com\r</td></tr><tr><td>AdventureWorks</td><td>Aleksandrs Cirulis</td><td>aleksandrs@wingtiptoys.com\r</td></tr><tr><td>AdventureWorks</td><td>Alessandra Gallo</td><td>alessandra@wingtiptoys.com\r</td></tr><tr><td>AdventureWorks</td><td>Alexandre  L'Angelier</td><td>alexandre @wingtiptoys.com\r</td></tr><tr><td>AdventureWorks</td><td>Am Lo</td><td>am@wingtiptoys.com\r</td></tr><tr><td>AdventureWorks</td><td>Amanda Kaulina</td><td>amanda@wingtiptoys.com\r</td></tr><tr><td>AdventureWorks</td><td>Ambareesh Madhunapantula</td><td>ambareesh@wingtiptoys.com\r</td></tr><tr><td>AdventureWorks</td><td>Amit Ghatak</td><td>amit@wingtiptoys.com\r</td></tr><tr><td>AdventureWorks</td><td>Amporn Jetjirawat</td><td>amporn@wingtiptoys.com\r</td></tr><tr><td>AdventureWorks</td><td>An Dung Ngo</td><td>an dung@wingtiptoys.com\r</td></tr><tr><td>AdventureWorks</td><td>Ana Julijana Isa</td><td>ana julijana@wingtiptoys.com\r</td></tr><tr><td>AdventureWorks</td><td>Anda Liepa</td><td>anda@wingtiptoys.com\r</td></tr><tr><td>AdventureWorks</td><td>Andrei Bratianu</td><td>andrei@wingtiptoys.com\r</td></tr><tr><td>AdventureWorks</td><td>Andris Vitols</td><td>andris@wingtiptoys.com\r</td></tr><tr><td>AdventureWorks</td><td>Anete Kundzina</td><td>anete@wingtiptoys.com\r</td></tr><tr><td>AdventureWorks</td><td>Angelina Gormanston</td><td>angelina@wingtiptoys.com\r</td></tr><tr><td>AdventureWorks</td><td>Angelina Karlsson</td><td>angelina@wingtiptoys.com\r</td></tr><tr><td>AdventureWorks</td><td>Anish Naidu</td><td>anish@wingtiptoys.com\r</td></tr><tr><td>AdventureWorks</td><td>Ankita Mittal</td><td>ankita@wingtiptoys.com\r</td></tr><tr><td>AdventureWorks</td><td>Ankolika Sen</td><td>ankolika@wingtiptoys.com\r</td></tr><tr><td>AdventureWorks</td><td>Anshula Mitra</td><td>anshula@wingtiptoys.com\r</td></tr><tr><td>AdventureWorks</td><td>Antonin Holy</td><td>antonin@wingtiptoys.com\r</td></tr><tr><td>AdventureWorks</td><td>Antonio Trentini</td><td>antonio@wingtiptoys.com\r</td></tr><tr><td>AdventureWorks</td><td>Anuj Sonkar</td><td>anuj@wingtiptoys.com\r</td></tr><tr><td>AdventureWorks</td><td>Anukul Dey</td><td>anukul@wingtiptoys.com\r</td></tr><tr><td>AdventureWorks</td><td>Anupam Majumdar</td><td>anupam@wingtiptoys.com\r</td></tr><tr><td>AdventureWorks</td><td>Arnab Malakar</td><td>arnab@wingtiptoys.com\r</td></tr><tr><td>AdventureWorks</td><td>Arto Heikkinen</td><td>arto@wingtiptoys.com\r</td></tr><tr><td>AdventureWorks</td><td>Arundhati Bhowmick</td><td>arundhati@wingtiptoys.com\r</td></tr><tr><td>AdventureWorks</td><td>Arunima Ganguly</td><td>arunima@wingtiptoys.com\r</td></tr><tr><td>AdventureWorks</td><td>Asha Mudigonda</td><td>asha@wingtiptoys.com\r</td></tr><tr><td>AdventureWorks</td><td>Astrid Poisson</td><td>astrid@wingtiptoys.com\r</td></tr><tr><td>AdventureWorks</td><td>Ava Edden</td><td>ava@wingtiptoys.com\r</td></tr><tr><td>AdventureWorks</td><td>Avanti Nishad</td><td>avanti@wingtiptoys.com\r</td></tr><tr><td>AdventureWorks</td><td>Baalaaditya Rallapalli</td><td>baalaaditya@wingtiptoys.com\r</td></tr><tr><td>AdventureWorks</td><td>Baalaamani Veturi</td><td>baalaamani@wingtiptoys.com\r</td></tr><tr><td>AdventureWorks</td><td>Baalamurali Kommineni</td><td>baalamurali@wingtiptoys.com\r</td></tr><tr><td>AdventureWorks</td><td>Baanuraekha Voleti</td><td>baanuraekha@wingtiptoys.com\r</td></tr><tr><td>AdventureWorks</td><td>Badanika Vankayala</td><td>badanika@wingtiptoys.com\r</td></tr><tr><td>AdventureWorks</td><td>Baebeesarasvati Kamasamudram</td><td>baebeesarasvati@wingtiptoys.com\r</td></tr><tr><td>AdventureWorks</td><td>Bala Ogra</td><td>bala@wingtiptoys.com\r</td></tr><tr><td>AdventureWorks</td><td>Basak Tekin</td><td>basak@wingtiptoys.com\r</td></tr><tr><td>AdventureWorks</td><td>Bay Ly</td><td>bay@wingtiptoys.com\r</td></tr><tr><td>AdventureWorks</td><td>Bhaagyalakshmi Muppavarapu</td><td>bhaagyalakshmi@wingtiptoys.com\r</td></tr><tr><td>AdventureWorks</td><td>Bhaagyalakshmi Rajanala</td><td>bhaagyalakshmi@wingtiptoys.com\r</td></tr><tr><td>AdventureWorks</td><td>Bhaamini Kanaparthi</td><td>bhaamini@wingtiptoys.com\r</td></tr><tr><td>AdventureWorks</td><td>Bhaanusree Ankitham</td><td>bhaanusree@wingtiptoys.com\r</td></tr><tr><td>AdventureWorks</td><td>Bhairaam Kidambi</td><td>bhairaam@wingtiptoys.com\r</td></tr><tr><td>AdventureWorks</td><td>Bibi Javan</td><td>bibi@wingtiptoys.com\r</td></tr><tr><td>AdventureWorks</td><td>Bich Banh</td><td>bich@wingtiptoys.com\r</td></tr><tr><td>AdventureWorks</td><td>Bipin Modi</td><td>bipin@wingtiptoys.com\r</td></tr><tr><td>AdventureWorks</td><td>Birgit Saar</td><td>birgit@wingtiptoys.com\r</td></tr><tr><td>AdventureWorks</td><td>Birol Arslan</td><td>birol@wingtiptoys.com\r</td></tr><tr><td>AdventureWorks</td><td>Bishnu Bandopadhyay</td><td>bishnu@wingtiptoys.com\r</td></tr><tr><td>AdventureWorks</td><td>Blagoje Pavlovic</td><td>blagoje@wingtiptoys.com\r</td></tr><tr><td>AdventureWorks</td><td>Bozena Divisova</td><td>bozena@wingtiptoys.com\r</td></tr><tr><td>AdventureWorks</td><td>Brayden Macnamara</td><td>brayden@wingtiptoys.com\r</td></tr><tr><td>AdventureWorks</td><td>Bruna Cavalcante</td><td>bruna@wingtiptoys.com\r</td></tr><tr><td>AdventureWorks</td><td>Bryan Helms</td><td>bryan@wingtiptoys.com\r</td></tr><tr><td>AdventureWorks</td><td>Burak ozden</td><td>burak@wingtiptoys.com\r</td></tr><tr><td>AdventureWorks</td><td>Cai Cao</td><td>cai@wingtiptoys.com\r</td></tr><tr><td>AdventureWorks</td><td>Calin Bojin</td><td>calin@wingtiptoys.com\r</td></tr><tr><td>AdventureWorks</td><td>Carla Osorio</td><td>carla@wingtiptoys.com\r</td></tr><tr><td>AdventureWorks</td><td>Catalina Nechita</td><td>catalina@wingtiptoys.com\r</td></tr><tr><td>AdventureWorks</td><td>Caterina Fallaci</td><td>caterina@wingtiptoys.com\r</td></tr><tr><td>AdventureWorks</td><td>Chandni Jandhyala</td><td>chandni@wingtiptoys.com\r</td></tr><tr><td>AdventureWorks</td><td>Chandran Bhattacharya</td><td>chandran@wingtiptoys.com\r</td></tr><tr><td>AdventureWorks</td><td>Chandranath Bose</td><td>chandranath@wingtiptoys.com\r</td></tr><tr><td>AdventureWorks</td><td>Charline Flamand</td><td>charline@wingtiptoys.com\r</td></tr><tr><td>AdventureWorks</td><td>Chati Ornlamai</td><td>chati@wingtiptoys.com\r</td></tr><tr><td>AdventureWorks</td><td>Chau Chu</td><td>chau@wingtiptoys.com\r</td></tr><tr><td>AdventureWorks</td><td>Chetana Kamath</td><td>chetana@wingtiptoys.com\r</td></tr><tr><td>AdventureWorks</td><td>Chuan Wongsawat</td><td>chuan@wingtiptoys.com\r</td></tr><tr><td>AdventureWorks</td><td>Claude Bonsaint</td><td>claude@wingtiptoys.com\r</td></tr><tr><td>AdventureWorks</td><td>Constanta Dita</td><td>constanta@wingtiptoys.com\r</td></tr><tr><td>AdventureWorks</td><td>Constanza Laureano</td><td>constanza@wingtiptoys.com\r</td></tr><tr><td>AdventureWorks</td><td>Coralie Brasseur</td><td>coralie@wingtiptoys.com\r</td></tr><tr><td>AdventureWorks</td><td>Corneliu Vladu</td><td>corneliu@wingtiptoys.com\r</td></tr><tr><td>AdventureWorks</td><td>Crina Nechita</td><td>crina@wingtiptoys.com\r</td></tr><tr><td>AdventureWorks</td><td>Cuc Tu</td><td>cuc@wingtiptoys.com\r</td></tr></table>"
                    }
                }
            ],
            "execution_count": 17
        },
        {
            "cell_type": "code",
            "source": [
                "/* Now Join Those to show customers we currently have in a SQL Server Database \r\n",
                "and the Category they are in the External Table */\r\n",
                "drop table if exists CustomersWithBadCredit\r\n",
                "\r\n",
                "create table CustomersWithBadCredit\r\n",
                "(CustomerName varchar(100))\r\n",
                "\r\n",
                "insert into CustomersWithBadCredit\r\n",
                "VALUES\r\n",
                "('Abel Pirvu')\r\n",
                ", ('Adirake Saenamuang')\r\n",
                ", ('Crina Nechita')\r\n",
                "\r\n",
                "\r\n",
                "--Combine SQL Data with HDFS to show the email address of customers with bad credit.\r\n",
                "select * from partner_customers_hdfs \r\n",
                "where customerName in (select CustomerName from CustomersWithBadCredit)\r\n",
                ""
            ],
            "metadata": {
                "azdata_cell_guid": "47f5f318-9bf2-4367-814e-aed08c785149"
            },
            "outputs": [
                {
                    "output_type": "display_data",
                    "data": {
                        "text/html": "(3 rows affected)"
                    },
                    "metadata": {}
                },
                {
                    "output_type": "display_data",
                    "data": {
                        "text/html": "(3 rows affected)"
                    },
                    "metadata": {}
                },
                {
                    "output_type": "display_data",
                    "data": {
                        "text/html": "Total execution time: 00:00:01.946"
                    },
                    "metadata": {}
                },
                {
                    "output_type": "execute_result",
                    "metadata": {},
                    "execution_count": 18,
                    "data": {
                        "application/vnd.dataresource+json": {
                            "schema": {
                                "fields": [
                                    {
                                        "name": "CustomerSource"
                                    },
                                    {
                                        "name": "CustomerName"
                                    },
                                    {
                                        "name": "EmailAddress"
                                    }
                                ]
                            },
                            "data": [
                                {
                                    "0": "AdventureWorks",
                                    "1": "Adirake Saenamuang",
                                    "2": "adirake@wingtiptoys.com\r"
                                },
                                {
                                    "0": "AdventureWorks",
                                    "1": "Abel Pirvu",
                                    "2": "abel@wingtiptoys.com\r"
                                },
                                {
                                    "0": "AdventureWorks",
                                    "1": "Crina Nechita",
                                    "2": "crina@wingtiptoys.com\r"
                                }
                            ]
                        },
                        "text/html": "<table><tr><th>CustomerSource</th><th>CustomerName</th><th>EmailAddress</th></tr><tr><td>AdventureWorks</td><td>Adirake Saenamuang</td><td>adirake@wingtiptoys.com\r</td></tr><tr><td>AdventureWorks</td><td>Abel Pirvu</td><td>abel@wingtiptoys.com\r</td></tr><tr><td>AdventureWorks</td><td>Crina Nechita</td><td>crina@wingtiptoys.com\r</td></tr></table>"
                    }
                }
            ],
            "execution_count": 18
        },
        {
            "cell_type": "markdown",
            "source": [
                "## Next Steps: Continue on to Working with the SQL Server Data Pool\r\n",
                "\r\n",
                "Now you're ready to open the next Python Notebook - `notebook_03.ipynb` - to learn how to create and work with a Data Mart."
            ],
            "metadata": {
                "azdata_cell_guid": "c741feaa-c9a7-48f0-887b-28eedcd14245"
            }
        }
    ]
}