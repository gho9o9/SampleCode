{
    "metadata": {
        "kernelspec": {
            "name": "SQL",
            "display_name": "SQL",
            "language": "sql"
        },
        "language_info": {
            "name": "sql",
            "version": ""
        }
    },
    "nbformat_minor": 2,
    "nbformat": 4,
    "cells": [
        {
            "cell_type": "markdown",
            "source": [
                "<img src=\"https://github.com/Microsoft/sqlworkshops/blob/master/graphics/solutions-microsoft-logo-small.png?raw=true\" alt=\"Microsoft\">\r\n",
                "<br>\r\n",
                "\r\n",
                "# SQL Server 2019 big data cluster Tutorial\r\n",
                "## 03 - Creating and Querying a Data Mart\r\n",
                "\r\n",
                "In this tutorial you will learn how to create and query a Data Mart using Virtualized Data in a SQL Server big data cluster. \r\n",
                "\r\n",
                "Wide World Importers is interested in ingesting the data from web logs from an HDFS source where they have been streamed. They want to be able to analyze the traffic to see if there is a pattern in time, products or locations. \r\n",
                "\r\n",
                "The web logs, however, are refreshed periodically. WWI would like to keep the logs in local storage to do deeper analysis. \r\n",
                "\r\n",
                "In this Jupyter Notebook you'll create a location to store the log files as a SQL Server Table in the SQL Data Pool, and then fill it by creating an External Table that reads HDFS."
            ],
            "metadata": {
                "azdata_cell_guid": "14f29fab-5ec8-48c8-aa9e-b222a1b4711e"
            }
        },
        {
            "cell_type": "code",
            "source": [
                "\r\n",
                "\r\n",
                "  IF NOT EXISTS(SELECT * FROM sys.external_data_sources WHERE name = 'SqlDataPool')\r\n",
                "      CREATE EXTERNAL DATA SOURCE SqlDataPool\r\n",
                "      WITH (LOCATION = 'sqldatapool://controller-svc:8080/datapools/default');"
            ],
            "metadata": {
                "azdata_cell_guid": "50e34d0b-d28e-4145-bfd4-0bf9a6ca9f3a"
            },
            "outputs": [
{
    "output_type": "error",
    "evalue": "Execution failed due to an unexpected error: \r\n\tThis editor is not connected to a database\r\nParameter name: OwnerUri",
    "ename": "",
    "traceback": []
}, {
    "output_type": "display_data",
    "data": {
        "text/html": "Total execution time: 00:00:00"
    },
    "metadata": {}
}
],
            "execution_count": 1
        },
        {
            "cell_type": "code",
            "source": [
                "CREATE EXTERNAL TABLE [web_clickstream_clicks_data_pool]\r\n",
                "    (\"wcs_click_date_sk\" BIGINT \r\n",
                "    , \"wcs_click_time_sk\" BIGINT \r\n",
                "    , \"wcs_sales_sk\" BIGINT \r\n",
                "    , \"wcs_item_sk\" BIGINT\r\n",
                "    , \"wcs_web_page_sk\" BIGINT \r\n",
                "    , \"wcs_user_sk\" BIGINT)\r\n",
                "    WITH\r\n",
                "    (\r\n",
                "    DATA_SOURCE = SqlDataPool,\r\n",
                "    DISTRIBUTION = ROUND_ROBIN\r\n",
                "    );\r\n",
                "GO"
            ],
            "metadata": {
                "azdata_cell_guid": "961832c4-c12b-40cd-b239-1389965fe1b0"
            },
            "outputs": [
                {
                    "output_type": "error",
                    "evalue": "Msg 2714, Level 16, State 6, Line 1\r\nThere is already an object named 'web_clickstream_clicks_data_pool' in the database.",
                    "ename": "",
                    "traceback": []
                },
                {
                    "output_type": "display_data",
                    "data": {
                        "text/html": "Total execution time: 00:00:00.033"
                    },
                    "metadata": {}
                }
            ],
            "execution_count": 4
        },
        {
            "cell_type": "code",
            "source": [
                "CREATE EXTERNAL FILE FORMAT csv_file\r\n",
                "WITH (FORMAT_TYPE = DELIMITEDTEXT,\r\n",
                "      FORMAT_OPTIONS(\r\n",
                "          FIELD_TERMINATOR = ',',\r\n",
                "          STRING_DELIMITER = '\"',\r\n",
                "          FIRST_ROW = 2, \r\n",
                "          USE_TYPE_DEFAULT = True)\r\n",
                ")\r\n",
                "/* Create an External Table that can read from the Storage Pool File Location */\r\n",
                "IF NOT EXISTS(SELECT * FROM sys.external_tables WHERE name = 'web_clickstreams_hdfs')\r\n",
                "BEGIN\r\n",
                "    CREATE EXTERNAL TABLE [web_clickstreams_hdfs]\r\n",
                "    (\"wcs_click_date_sk\" BIGINT \r\n",
                "    , \"wcs_click_time_sk\" BIGINT \r\n",
                "    , \"wcs_sales_sk\" BIGINT \r\n",
                "    , \"wcs_item_sk\" BIGINT\r\n",
                "    , \"wcs_web_page_sk\" BIGINT \r\n",
                "    , \"wcs_user_sk\" BIGINT)\r\n",
                "    WITH\r\n",
                "    (\r\n",
                "        DATA_SOURCE = SqlStoragePool,\r\n",
                "        LOCATION = '/web_logs',\r\n",
                "        FILE_FORMAT = csv_file\r\n",
                "    );\r\n",
                "END"
            ],
            "metadata": {
                "azdata_cell_guid": "fa4f199d-88a7-4e21-bd36-5625367179fd"
            },
            "outputs": [
                {
                    "output_type": "display_data",
                    "data": {
                        "text/html": "Commands completed successfully."
                    },
                    "metadata": {}
                },
                {
                    "output_type": "display_data",
                    "data": {
                        "text/html": "Total execution time: 00:00:00.341"
                    },
                    "metadata": {}
                }
            ],
            "execution_count": 5
        },
        {
            "cell_type": "code",
            "source": [
                "BEGIN\r\n",
                "   INSERT INTO web_clickstream_clicks_data_pool\r\n",
                "   SELECT wcs_click_date_sk\r\n",
                "    , wcs_click_time_sk \r\n",
                "    , wcs_sales_sk \r\n",
                "    , wcs_item_sk \r\n",
                "    , wcs_web_page_sk  \r\n",
                "    , wcs_user_sk \r\n",
                "     FROM web_clickstreams_hdfs\r\n",
                "END"
            ],
            "metadata": {
                "azdata_cell_guid": "ca7d325d-46e4-4dbc-846a-12a1d6ce351b"
            },
            "outputs": [
                {
                    "output_type": "display_data",
                    "data": {
                        "text/html": "(6770549 rows affected)"
                    },
                    "metadata": {}
                },
                {
                    "output_type": "display_data",
                    "data": {
                        "text/html": "Total execution time: 00:00:45.350"
                    },
                    "metadata": {}
                }
            ],
            "execution_count": 6
        },
        {
            "cell_type": "code",
            "source": [
                "SELECT count(*) AS TotalRecords FROM [dbo].[web_clickstream_clicks_data_pool]\r\n",
                "SELECT TOP 10 * FROM [dbo].[web_clickstream_clicks_data_pool]"
            ],
            "metadata": {
                "azdata_cell_guid": "5a24d573-8a03-404a-9fb7-cd6dc9ee6787"
            },
            "outputs": [
                {
                    "output_type": "display_data",
                    "data": {
                        "text/html": "(1 row affected)"
                    },
                    "metadata": {}
                },
                {
                    "output_type": "display_data",
                    "data": {
                        "text/html": "(10 rows affected)"
                    },
                    "metadata": {}
                },
                {
                    "output_type": "display_data",
                    "data": {
                        "text/html": "Total execution time: 00:00:03.568"
                    },
                    "metadata": {}
                },
                {
                    "output_type": "execute_result",
                    "metadata": {},
                    "execution_count": 7,
                    "data": {
                        "application/vnd.dataresource+json": {
                            "schema": {
                                "fields": [
                                    {
                                        "name": "TotalRecords"
                                    }
                                ]
                            },
                            "data": [
                                {
                                    "0": "6770549"
                                }
                            ]
                        },
                        "text/html": "<table><tr><th>TotalRecords</th></tr><tr><td>6770549</td></tr></table>"
                    }
                },
                {
                    "output_type": "execute_result",
                    "metadata": {},
                    "execution_count": 7,
                    "data": {
                        "application/vnd.dataresource+json": {
                            "schema": {
                                "fields": [
                                    {
                                        "name": "wcs_click_date_sk"
                                    },
                                    {
                                        "name": "wcs_click_time_sk"
                                    },
                                    {
                                        "name": "wcs_sales_sk"
                                    },
                                    {
                                        "name": "wcs_item_sk"
                                    },
                                    {
                                        "name": "wcs_web_page_sk"
                                    },
                                    {
                                        "name": "wcs_user_sk"
                                    }
                                ]
                            },
                            "data": [
                                {
                                    "0": "37757",
                                    "1": "46857",
                                    "2": "NULL",
                                    "3": "7679",
                                    "4": "7",
                                    "5": "NULL"
                                },
                                {
                                    "0": "37757",
                                    "1": "81346",
                                    "2": "NULL",
                                    "3": "8318",
                                    "4": "7",
                                    "5": "NULL"
                                },
                                {
                                    "0": "37757",
                                    "1": "36787",
                                    "2": "NULL",
                                    "3": "17245",
                                    "4": "7",
                                    "5": "NULL"
                                },
                                {
                                    "0": "37757",
                                    "1": "54811",
                                    "2": "NULL",
                                    "3": "12518",
                                    "4": "7",
                                    "5": "NULL"
                                },
                                {
                                    "0": "37758",
                                    "1": "72062",
                                    "2": "NULL",
                                    "3": "10360",
                                    "4": "7",
                                    "5": "NULL"
                                },
                                {
                                    "0": "37758",
                                    "1": "52272",
                                    "2": "NULL",
                                    "3": "13616",
                                    "4": "7",
                                    "5": "NULL"
                                },
                                {
                                    "0": "37758",
                                    "1": "49261",
                                    "2": "NULL",
                                    "3": "12336",
                                    "4": "7",
                                    "5": "NULL"
                                },
                                {
                                    "0": "37758",
                                    "1": "75152",
                                    "2": "NULL",
                                    "3": "3398",
                                    "4": "7",
                                    "5": "NULL"
                                },
                                {
                                    "0": "37758",
                                    "1": "6933",
                                    "2": "NULL",
                                    "3": "14750",
                                    "4": "7",
                                    "5": "NULL"
                                },
                                {
                                    "0": "37758",
                                    "1": "22472",
                                    "2": "NULL",
                                    "3": "9197",
                                    "4": "7",
                                    "5": "NULL"
                                }
                            ]
                        },
                        "text/html": "<table><tr><th>wcs_click_date_sk</th><th>wcs_click_time_sk</th><th>wcs_sales_sk</th><th>wcs_item_sk</th><th>wcs_web_page_sk</th><th>wcs_user_sk</th></tr><tr><td>37757</td><td>46857</td><td>NULL</td><td>7679</td><td>7</td><td>NULL</td></tr><tr><td>37757</td><td>81346</td><td>NULL</td><td>8318</td><td>7</td><td>NULL</td></tr><tr><td>37757</td><td>36787</td><td>NULL</td><td>17245</td><td>7</td><td>NULL</td></tr><tr><td>37757</td><td>54811</td><td>NULL</td><td>12518</td><td>7</td><td>NULL</td></tr><tr><td>37758</td><td>72062</td><td>NULL</td><td>10360</td><td>7</td><td>NULL</td></tr><tr><td>37758</td><td>52272</td><td>NULL</td><td>13616</td><td>7</td><td>NULL</td></tr><tr><td>37758</td><td>49261</td><td>NULL</td><td>12336</td><td>7</td><td>NULL</td></tr><tr><td>37758</td><td>75152</td><td>NULL</td><td>3398</td><td>7</td><td>NULL</td></tr><tr><td>37758</td><td>6933</td><td>NULL</td><td>14750</td><td>7</td><td>NULL</td></tr><tr><td>37758</td><td>22472</td><td>NULL</td><td>9197</td><td>7</td><td>NULL</td></tr></table>"
                    }
                }
            ],
            "execution_count": 7
        },
        {
            "cell_type": "markdown",
            "source": [
                "## Next Steps: Continue on to Working with Spark and ETL\r\n",
                "\r\n",
                "Now you're ready to open the next Python Notebook - `notebook_04.ipynb` - to learn how to create and work with Spark and Extracting, Transforming and Loading data."
            ],
            "metadata": {
                "azdata_cell_guid": "fafe9af5-dba5-43f5-9425-9208477d801f"
            }
        }
    ]
}